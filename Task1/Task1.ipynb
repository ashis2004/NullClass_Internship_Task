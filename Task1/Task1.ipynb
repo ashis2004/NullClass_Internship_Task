{
  "cells": [
    {
      "cell_type": "code",
      "execution_count": null,
      "metadata": {
        "colab": {
          "base_uri": "https://localhost:8080/"
        },
        "id": "bnqAFxnER8H8",
        "outputId": "f7b98152-e384-4af6-8e23-6f0f8c840009"
      },
      "outputs": [
        {
          "name": "stdout",
          "output_type": "stream",
          "text": [
            "Downloading from https://www.kaggle.com/api/v1/datasets/download/abhikjha/imdb-wiki-faces-dataset?dataset_version_number=2...\n"
          ]
        },
        {
          "name": "stderr",
          "output_type": "stream",
          "text": [
            "100%|██████████| 5.92G/5.92G [02:32<00:00, 41.7MB/s]"
          ]
        },
        {
          "name": "stdout",
          "output_type": "stream",
          "text": [
            "Extracting files...\n"
          ]
        },
        {
          "name": "stderr",
          "output_type": "stream",
          "text": [
            "\n"
          ]
        },
        {
          "name": "stdout",
          "output_type": "stream",
          "text": [
            "Dataset downloaded to: /root/.cache/kagglehub/datasets/abhikjha/imdb-wiki-faces-dataset/versions/2\n"
          ]
        }
      ],
      "source": [
        "import kagglehub\n",
        "\n",
        "path = kagglehub.dataset_download(\"abhikjha/imdb-wiki-faces-dataset\")\n",
        "print(\"Dataset downloaded to:\", path)\n"
      ]
    },
    {
      "cell_type": "code",
      "execution_count": null,
      "metadata": {
        "colab": {
          "base_uri": "https://localhost:8080/"
        },
        "id": "birJsLMPSKc-",
        "outputId": "a0507126-9ffe-4bae-dfb1-c5c64c514cec"
      },
      "outputs": [
        {
          "name": "stdout",
          "output_type": "stream",
          "text": [
            "Found 0 image files.\n"
          ]
        }
      ],
      "source": [
        "valid_images = [f for f in os.listdir(path) if f.endswith(('.jpg', '.png', '.jpeg'))]\n",
        "print(f\"Found {len(valid_images)} image files.\")\n"
      ]
    },
    {
      "cell_type": "code",
      "execution_count": null,
      "metadata": {
        "colab": {
          "base_uri": "https://localhost:8080/"
        },
        "id": "4ul36fWfSKZf",
        "outputId": "946597af-8dcc-43ff-c373-1e31983de986"
      },
      "outputs": [
        {
          "name": "stdout",
          "output_type": "stream",
          "text": [
            "Checking: /root/.cache/kagglehub/datasets/abhikjha/imdb-wiki-faces-dataset/versions/2\n",
            "Checking: /root/.cache/kagglehub/datasets/abhikjha/imdb-wiki-faces-dataset/versions/2/imdb_crop\n",
            "Checking: /root/.cache/kagglehub/datasets/abhikjha/imdb-wiki-faces-dataset/versions/2/imdb_crop/71\n",
            "Found 4473 images in /root/.cache/kagglehub/datasets/abhikjha/imdb-wiki-faces-dataset/versions/2/imdb_crop/71\n",
            "Checking: /root/.cache/kagglehub/datasets/abhikjha/imdb-wiki-faces-dataset/versions/2/imdb_crop/62\n",
            "Found 5746 images in /root/.cache/kagglehub/datasets/abhikjha/imdb-wiki-faces-dataset/versions/2/imdb_crop/62\n",
            "Checking: /root/.cache/kagglehub/datasets/abhikjha/imdb-wiki-faces-dataset/versions/2/imdb_crop/55\n",
            "Found 5312 images in /root/.cache/kagglehub/datasets/abhikjha/imdb-wiki-faces-dataset/versions/2/imdb_crop/55\n",
            "Checking: /root/.cache/kagglehub/datasets/abhikjha/imdb-wiki-faces-dataset/versions/2/imdb_crop/09\n",
            "Found 4520 images in /root/.cache/kagglehub/datasets/abhikjha/imdb-wiki-faces-dataset/versions/2/imdb_crop/09\n",
            "Checking: /root/.cache/kagglehub/datasets/abhikjha/imdb-wiki-faces-dataset/versions/2/imdb_crop/63\n",
            "Found 3808 images in /root/.cache/kagglehub/datasets/abhikjha/imdb-wiki-faces-dataset/versions/2/imdb_crop/63\n",
            "Checking: /root/.cache/kagglehub/datasets/abhikjha/imdb-wiki-faces-dataset/versions/2/imdb_crop/28\n",
            "Found 4187 images in /root/.cache/kagglehub/datasets/abhikjha/imdb-wiki-faces-dataset/versions/2/imdb_crop/28\n",
            "Checking: /root/.cache/kagglehub/datasets/abhikjha/imdb-wiki-faces-dataset/versions/2/imdb_crop/31\n",
            "Found 4238 images in /root/.cache/kagglehub/datasets/abhikjha/imdb-wiki-faces-dataset/versions/2/imdb_crop/31\n",
            "Checking: /root/.cache/kagglehub/datasets/abhikjha/imdb-wiki-faces-dataset/versions/2/imdb_crop/25\n",
            "Found 4247 images in /root/.cache/kagglehub/datasets/abhikjha/imdb-wiki-faces-dataset/versions/2/imdb_crop/25\n",
            "Checking: /root/.cache/kagglehub/datasets/abhikjha/imdb-wiki-faces-dataset/versions/2/imdb_crop/44\n",
            "Found 4086 images in /root/.cache/kagglehub/datasets/abhikjha/imdb-wiki-faces-dataset/versions/2/imdb_crop/44\n",
            "Checking: /root/.cache/kagglehub/datasets/abhikjha/imdb-wiki-faces-dataset/versions/2/imdb_crop/51\n",
            "Found 4652 images in /root/.cache/kagglehub/datasets/abhikjha/imdb-wiki-faces-dataset/versions/2/imdb_crop/51\n",
            "Checking: /root/.cache/kagglehub/datasets/abhikjha/imdb-wiki-faces-dataset/versions/2/imdb_crop/21\n",
            "Found 4203 images in /root/.cache/kagglehub/datasets/abhikjha/imdb-wiki-faces-dataset/versions/2/imdb_crop/21\n",
            "Checking: /root/.cache/kagglehub/datasets/abhikjha/imdb-wiki-faces-dataset/versions/2/imdb_crop/10\n",
            "Found 5393 images in /root/.cache/kagglehub/datasets/abhikjha/imdb-wiki-faces-dataset/versions/2/imdb_crop/10\n",
            "Checking: /root/.cache/kagglehub/datasets/abhikjha/imdb-wiki-faces-dataset/versions/2/imdb_crop/65\n",
            "Found 3599 images in /root/.cache/kagglehub/datasets/abhikjha/imdb-wiki-faces-dataset/versions/2/imdb_crop/65\n",
            "Checking: /root/.cache/kagglehub/datasets/abhikjha/imdb-wiki-faces-dataset/versions/2/imdb_crop/42\n",
            "Found 5000 images in /root/.cache/kagglehub/datasets/abhikjha/imdb-wiki-faces-dataset/versions/2/imdb_crop/42\n",
            "Checking: /root/.cache/kagglehub/datasets/abhikjha/imdb-wiki-faces-dataset/versions/2/imdb_crop/16\n",
            "Found 5447 images in /root/.cache/kagglehub/datasets/abhikjha/imdb-wiki-faces-dataset/versions/2/imdb_crop/16\n",
            "Checking: /root/.cache/kagglehub/datasets/abhikjha/imdb-wiki-faces-dataset/versions/2/imdb_crop/58\n",
            "Found 4577 images in /root/.cache/kagglehub/datasets/abhikjha/imdb-wiki-faces-dataset/versions/2/imdb_crop/58\n",
            "Checking: /root/.cache/kagglehub/datasets/abhikjha/imdb-wiki-faces-dataset/versions/2/imdb_crop/94\n",
            "Found 3632 images in /root/.cache/kagglehub/datasets/abhikjha/imdb-wiki-faces-dataset/versions/2/imdb_crop/94\n",
            "Checking: /root/.cache/kagglehub/datasets/abhikjha/imdb-wiki-faces-dataset/versions/2/imdb_crop/14\n",
            "Found 3735 images in /root/.cache/kagglehub/datasets/abhikjha/imdb-wiki-faces-dataset/versions/2/imdb_crop/14\n",
            "Checking: /root/.cache/kagglehub/datasets/abhikjha/imdb-wiki-faces-dataset/versions/2/imdb_crop/90\n",
            "Found 3629 images in /root/.cache/kagglehub/datasets/abhikjha/imdb-wiki-faces-dataset/versions/2/imdb_crop/90\n",
            "Checking: /root/.cache/kagglehub/datasets/abhikjha/imdb-wiki-faces-dataset/versions/2/imdb_crop/92\n",
            "Found 3350 images in /root/.cache/kagglehub/datasets/abhikjha/imdb-wiki-faces-dataset/versions/2/imdb_crop/92\n",
            "Checking: /root/.cache/kagglehub/datasets/abhikjha/imdb-wiki-faces-dataset/versions/2/imdb_crop/73\n",
            "Found 6261 images in /root/.cache/kagglehub/datasets/abhikjha/imdb-wiki-faces-dataset/versions/2/imdb_crop/73\n",
            "Checking: /root/.cache/kagglehub/datasets/abhikjha/imdb-wiki-faces-dataset/versions/2/imdb_crop/95\n",
            "Found 4319 images in /root/.cache/kagglehub/datasets/abhikjha/imdb-wiki-faces-dataset/versions/2/imdb_crop/95\n",
            "Checking: /root/.cache/kagglehub/datasets/abhikjha/imdb-wiki-faces-dataset/versions/2/imdb_crop/69\n",
            "Found 5176 images in /root/.cache/kagglehub/datasets/abhikjha/imdb-wiki-faces-dataset/versions/2/imdb_crop/69\n",
            "Checking: /root/.cache/kagglehub/datasets/abhikjha/imdb-wiki-faces-dataset/versions/2/imdb_crop/35\n",
            "Found 5012 images in /root/.cache/kagglehub/datasets/abhikjha/imdb-wiki-faces-dataset/versions/2/imdb_crop/35\n",
            "Checking: /root/.cache/kagglehub/datasets/abhikjha/imdb-wiki-faces-dataset/versions/2/imdb_crop/38\n",
            "Found 6058 images in /root/.cache/kagglehub/datasets/abhikjha/imdb-wiki-faces-dataset/versions/2/imdb_crop/38\n",
            "Checking: /root/.cache/kagglehub/datasets/abhikjha/imdb-wiki-faces-dataset/versions/2/imdb_crop/86\n",
            "Found 4839 images in /root/.cache/kagglehub/datasets/abhikjha/imdb-wiki-faces-dataset/versions/2/imdb_crop/86\n",
            "Checking: /root/.cache/kagglehub/datasets/abhikjha/imdb-wiki-faces-dataset/versions/2/imdb_crop/24\n",
            "Found 4728 images in /root/.cache/kagglehub/datasets/abhikjha/imdb-wiki-faces-dataset/versions/2/imdb_crop/24\n",
            "Checking: /root/.cache/kagglehub/datasets/abhikjha/imdb-wiki-faces-dataset/versions/2/imdb_crop/23\n",
            "Found 4838 images in /root/.cache/kagglehub/datasets/abhikjha/imdb-wiki-faces-dataset/versions/2/imdb_crop/23\n",
            "Checking: /root/.cache/kagglehub/datasets/abhikjha/imdb-wiki-faces-dataset/versions/2/imdb_crop/26\n",
            "Found 5705 images in /root/.cache/kagglehub/datasets/abhikjha/imdb-wiki-faces-dataset/versions/2/imdb_crop/26\n",
            "Checking: /root/.cache/kagglehub/datasets/abhikjha/imdb-wiki-faces-dataset/versions/2/imdb_crop/48\n",
            "Found 4100 images in /root/.cache/kagglehub/datasets/abhikjha/imdb-wiki-faces-dataset/versions/2/imdb_crop/48\n",
            "Checking: /root/.cache/kagglehub/datasets/abhikjha/imdb-wiki-faces-dataset/versions/2/imdb_crop/06\n",
            "Found 4748 images in /root/.cache/kagglehub/datasets/abhikjha/imdb-wiki-faces-dataset/versions/2/imdb_crop/06\n",
            "Checking: /root/.cache/kagglehub/datasets/abhikjha/imdb-wiki-faces-dataset/versions/2/imdb_crop/32\n",
            "Found 6181 images in /root/.cache/kagglehub/datasets/abhikjha/imdb-wiki-faces-dataset/versions/2/imdb_crop/32\n",
            "Checking: /root/.cache/kagglehub/datasets/abhikjha/imdb-wiki-faces-dataset/versions/2/imdb_crop/15\n",
            "Found 4564 images in /root/.cache/kagglehub/datasets/abhikjha/imdb-wiki-faces-dataset/versions/2/imdb_crop/15\n",
            "Checking: /root/.cache/kagglehub/datasets/abhikjha/imdb-wiki-faces-dataset/versions/2/imdb_crop/88\n",
            "Found 6551 images in /root/.cache/kagglehub/datasets/abhikjha/imdb-wiki-faces-dataset/versions/2/imdb_crop/88\n",
            "Checking: /root/.cache/kagglehub/datasets/abhikjha/imdb-wiki-faces-dataset/versions/2/imdb_crop/20\n",
            "Found 4904 images in /root/.cache/kagglehub/datasets/abhikjha/imdb-wiki-faces-dataset/versions/2/imdb_crop/20\n",
            "Checking: /root/.cache/kagglehub/datasets/abhikjha/imdb-wiki-faces-dataset/versions/2/imdb_crop/29\n",
            "Found 4919 images in /root/.cache/kagglehub/datasets/abhikjha/imdb-wiki-faces-dataset/versions/2/imdb_crop/29\n",
            "Checking: /root/.cache/kagglehub/datasets/abhikjha/imdb-wiki-faces-dataset/versions/2/imdb_crop/27\n",
            "Found 5611 images in /root/.cache/kagglehub/datasets/abhikjha/imdb-wiki-faces-dataset/versions/2/imdb_crop/27\n",
            "Checking: /root/.cache/kagglehub/datasets/abhikjha/imdb-wiki-faces-dataset/versions/2/imdb_crop/53\n",
            "Found 4971 images in /root/.cache/kagglehub/datasets/abhikjha/imdb-wiki-faces-dataset/versions/2/imdb_crop/53\n",
            "Checking: /root/.cache/kagglehub/datasets/abhikjha/imdb-wiki-faces-dataset/versions/2/imdb_crop/02\n",
            "Found 5483 images in /root/.cache/kagglehub/datasets/abhikjha/imdb-wiki-faces-dataset/versions/2/imdb_crop/02\n",
            "Checking: /root/.cache/kagglehub/datasets/abhikjha/imdb-wiki-faces-dataset/versions/2/imdb_crop/81\n",
            "Found 5236 images in /root/.cache/kagglehub/datasets/abhikjha/imdb-wiki-faces-dataset/versions/2/imdb_crop/81\n",
            "Checking: /root/.cache/kagglehub/datasets/abhikjha/imdb-wiki-faces-dataset/versions/2/imdb_crop/97\n",
            "Found 5538 images in /root/.cache/kagglehub/datasets/abhikjha/imdb-wiki-faces-dataset/versions/2/imdb_crop/97\n",
            "Checking: /root/.cache/kagglehub/datasets/abhikjha/imdb-wiki-faces-dataset/versions/2/imdb_crop/77\n",
            "Found 4939 images in /root/.cache/kagglehub/datasets/abhikjha/imdb-wiki-faces-dataset/versions/2/imdb_crop/77\n",
            "Checking: /root/.cache/kagglehub/datasets/abhikjha/imdb-wiki-faces-dataset/versions/2/imdb_crop/91\n",
            "Found 4064 images in /root/.cache/kagglehub/datasets/abhikjha/imdb-wiki-faces-dataset/versions/2/imdb_crop/91\n",
            "Checking: /root/.cache/kagglehub/datasets/abhikjha/imdb-wiki-faces-dataset/versions/2/imdb_crop/01\n",
            "Found 5547 images in /root/.cache/kagglehub/datasets/abhikjha/imdb-wiki-faces-dataset/versions/2/imdb_crop/01\n",
            "Checking: /root/.cache/kagglehub/datasets/abhikjha/imdb-wiki-faces-dataset/versions/2/imdb_crop/07\n",
            "Found 3872 images in /root/.cache/kagglehub/datasets/abhikjha/imdb-wiki-faces-dataset/versions/2/imdb_crop/07\n",
            "Checking: /root/.cache/kagglehub/datasets/abhikjha/imdb-wiki-faces-dataset/versions/2/imdb_crop/83\n",
            "Found 3139 images in /root/.cache/kagglehub/datasets/abhikjha/imdb-wiki-faces-dataset/versions/2/imdb_crop/83\n",
            "Checking: /root/.cache/kagglehub/datasets/abhikjha/imdb-wiki-faces-dataset/versions/2/imdb_crop/36\n",
            "Found 4350 images in /root/.cache/kagglehub/datasets/abhikjha/imdb-wiki-faces-dataset/versions/2/imdb_crop/36\n",
            "Checking: /root/.cache/kagglehub/datasets/abhikjha/imdb-wiki-faces-dataset/versions/2/imdb_crop/78\n",
            "Found 3810 images in /root/.cache/kagglehub/datasets/abhikjha/imdb-wiki-faces-dataset/versions/2/imdb_crop/78\n",
            "Checking: /root/.cache/kagglehub/datasets/abhikjha/imdb-wiki-faces-dataset/versions/2/imdb_crop/82\n",
            "Found 4788 images in /root/.cache/kagglehub/datasets/abhikjha/imdb-wiki-faces-dataset/versions/2/imdb_crop/82\n",
            "Checking: /root/.cache/kagglehub/datasets/abhikjha/imdb-wiki-faces-dataset/versions/2/imdb_crop/37\n",
            "Found 5019 images in /root/.cache/kagglehub/datasets/abhikjha/imdb-wiki-faces-dataset/versions/2/imdb_crop/37\n",
            "Checking: /root/.cache/kagglehub/datasets/abhikjha/imdb-wiki-faces-dataset/versions/2/imdb_crop/84\n",
            "Found 3383 images in /root/.cache/kagglehub/datasets/abhikjha/imdb-wiki-faces-dataset/versions/2/imdb_crop/84\n",
            "Checking: /root/.cache/kagglehub/datasets/abhikjha/imdb-wiki-faces-dataset/versions/2/imdb_crop/67\n",
            "Found 4318 images in /root/.cache/kagglehub/datasets/abhikjha/imdb-wiki-faces-dataset/versions/2/imdb_crop/67\n",
            "Checking: /root/.cache/kagglehub/datasets/abhikjha/imdb-wiki-faces-dataset/versions/2/imdb_crop/05\n",
            "Found 5673 images in /root/.cache/kagglehub/datasets/abhikjha/imdb-wiki-faces-dataset/versions/2/imdb_crop/05\n",
            "Checking: /root/.cache/kagglehub/datasets/abhikjha/imdb-wiki-faces-dataset/versions/2/imdb_crop/61\n",
            "Found 3618 images in /root/.cache/kagglehub/datasets/abhikjha/imdb-wiki-faces-dataset/versions/2/imdb_crop/61\n",
            "Checking: /root/.cache/kagglehub/datasets/abhikjha/imdb-wiki-faces-dataset/versions/2/imdb_crop/41\n",
            "Found 4202 images in /root/.cache/kagglehub/datasets/abhikjha/imdb-wiki-faces-dataset/versions/2/imdb_crop/41\n",
            "Checking: /root/.cache/kagglehub/datasets/abhikjha/imdb-wiki-faces-dataset/versions/2/imdb_crop/68\n",
            "Found 4240 images in /root/.cache/kagglehub/datasets/abhikjha/imdb-wiki-faces-dataset/versions/2/imdb_crop/68\n",
            "Checking: /root/.cache/kagglehub/datasets/abhikjha/imdb-wiki-faces-dataset/versions/2/imdb_crop/59\n",
            "Found 5694 images in /root/.cache/kagglehub/datasets/abhikjha/imdb-wiki-faces-dataset/versions/2/imdb_crop/59\n",
            "Checking: /root/.cache/kagglehub/datasets/abhikjha/imdb-wiki-faces-dataset/versions/2/imdb_crop/74\n",
            "Found 3592 images in /root/.cache/kagglehub/datasets/abhikjha/imdb-wiki-faces-dataset/versions/2/imdb_crop/74\n",
            "Checking: /root/.cache/kagglehub/datasets/abhikjha/imdb-wiki-faces-dataset/versions/2/imdb_crop/54\n",
            "Found 5005 images in /root/.cache/kagglehub/datasets/abhikjha/imdb-wiki-faces-dataset/versions/2/imdb_crop/54\n",
            "Checking: /root/.cache/kagglehub/datasets/abhikjha/imdb-wiki-faces-dataset/versions/2/imdb_crop/30\n",
            "Found 3528 images in /root/.cache/kagglehub/datasets/abhikjha/imdb-wiki-faces-dataset/versions/2/imdb_crop/30\n",
            "Checking: /root/.cache/kagglehub/datasets/abhikjha/imdb-wiki-faces-dataset/versions/2/imdb_crop/08\n",
            "Found 4344 images in /root/.cache/kagglehub/datasets/abhikjha/imdb-wiki-faces-dataset/versions/2/imdb_crop/08\n",
            "Checking: /root/.cache/kagglehub/datasets/abhikjha/imdb-wiki-faces-dataset/versions/2/imdb_crop/11\n",
            "Found 3335 images in /root/.cache/kagglehub/datasets/abhikjha/imdb-wiki-faces-dataset/versions/2/imdb_crop/11\n",
            "Checking: /root/.cache/kagglehub/datasets/abhikjha/imdb-wiki-faces-dataset/versions/2/imdb_crop/00\n",
            "Found 3862 images in /root/.cache/kagglehub/datasets/abhikjha/imdb-wiki-faces-dataset/versions/2/imdb_crop/00\n",
            "Checking: /root/.cache/kagglehub/datasets/abhikjha/imdb-wiki-faces-dataset/versions/2/imdb_crop/89\n",
            "Found 4308 images in /root/.cache/kagglehub/datasets/abhikjha/imdb-wiki-faces-dataset/versions/2/imdb_crop/89\n",
            "Checking: /root/.cache/kagglehub/datasets/abhikjha/imdb-wiki-faces-dataset/versions/2/imdb_crop/40\n",
            "Found 5023 images in /root/.cache/kagglehub/datasets/abhikjha/imdb-wiki-faces-dataset/versions/2/imdb_crop/40\n",
            "Checking: /root/.cache/kagglehub/datasets/abhikjha/imdb-wiki-faces-dataset/versions/2/imdb_crop/12\n",
            "Found 6994 images in /root/.cache/kagglehub/datasets/abhikjha/imdb-wiki-faces-dataset/versions/2/imdb_crop/12\n",
            "Checking: /root/.cache/kagglehub/datasets/abhikjha/imdb-wiki-faces-dataset/versions/2/imdb_crop/85\n",
            "Found 4435 images in /root/.cache/kagglehub/datasets/abhikjha/imdb-wiki-faces-dataset/versions/2/imdb_crop/85\n",
            "Checking: /root/.cache/kagglehub/datasets/abhikjha/imdb-wiki-faces-dataset/versions/2/imdb_crop/64\n",
            "Found 5237 images in /root/.cache/kagglehub/datasets/abhikjha/imdb-wiki-faces-dataset/versions/2/imdb_crop/64\n",
            "Checking: /root/.cache/kagglehub/datasets/abhikjha/imdb-wiki-faces-dataset/versions/2/imdb_crop/66\n",
            "Found 4600 images in /root/.cache/kagglehub/datasets/abhikjha/imdb-wiki-faces-dataset/versions/2/imdb_crop/66\n",
            "Checking: /root/.cache/kagglehub/datasets/abhikjha/imdb-wiki-faces-dataset/versions/2/imdb_crop/99\n",
            "Found 4268 images in /root/.cache/kagglehub/datasets/abhikjha/imdb-wiki-faces-dataset/versions/2/imdb_crop/99\n",
            "Checking: /root/.cache/kagglehub/datasets/abhikjha/imdb-wiki-faces-dataset/versions/2/imdb_crop/03\n",
            "Found 4141 images in /root/.cache/kagglehub/datasets/abhikjha/imdb-wiki-faces-dataset/versions/2/imdb_crop/03\n",
            "Checking: /root/.cache/kagglehub/datasets/abhikjha/imdb-wiki-faces-dataset/versions/2/imdb_crop/96\n",
            "Found 3791 images in /root/.cache/kagglehub/datasets/abhikjha/imdb-wiki-faces-dataset/versions/2/imdb_crop/96\n",
            "Checking: /root/.cache/kagglehub/datasets/abhikjha/imdb-wiki-faces-dataset/versions/2/imdb_crop/93\n",
            "Found 4334 images in /root/.cache/kagglehub/datasets/abhikjha/imdb-wiki-faces-dataset/versions/2/imdb_crop/93\n",
            "Checking: /root/.cache/kagglehub/datasets/abhikjha/imdb-wiki-faces-dataset/versions/2/imdb_crop/49\n",
            "Found 4506 images in /root/.cache/kagglehub/datasets/abhikjha/imdb-wiki-faces-dataset/versions/2/imdb_crop/49\n",
            "Checking: /root/.cache/kagglehub/datasets/abhikjha/imdb-wiki-faces-dataset/versions/2/imdb_crop/60\n",
            "Found 4729 images in /root/.cache/kagglehub/datasets/abhikjha/imdb-wiki-faces-dataset/versions/2/imdb_crop/60\n",
            "Checking: /root/.cache/kagglehub/datasets/abhikjha/imdb-wiki-faces-dataset/versions/2/imdb_crop/46\n",
            "Found 4410 images in /root/.cache/kagglehub/datasets/abhikjha/imdb-wiki-faces-dataset/versions/2/imdb_crop/46\n",
            "Checking: /root/.cache/kagglehub/datasets/abhikjha/imdb-wiki-faces-dataset/versions/2/imdb_crop/57\n",
            "Found 4208 images in /root/.cache/kagglehub/datasets/abhikjha/imdb-wiki-faces-dataset/versions/2/imdb_crop/57\n",
            "Checking: /root/.cache/kagglehub/datasets/abhikjha/imdb-wiki-faces-dataset/versions/2/imdb_crop/39\n",
            "Found 5252 images in /root/.cache/kagglehub/datasets/abhikjha/imdb-wiki-faces-dataset/versions/2/imdb_crop/39\n",
            "Checking: /root/.cache/kagglehub/datasets/abhikjha/imdb-wiki-faces-dataset/versions/2/imdb_crop/18\n",
            "Found 4119 images in /root/.cache/kagglehub/datasets/abhikjha/imdb-wiki-faces-dataset/versions/2/imdb_crop/18\n",
            "Checking: /root/.cache/kagglehub/datasets/abhikjha/imdb-wiki-faces-dataset/versions/2/imdb_crop/52\n",
            "Found 3683 images in /root/.cache/kagglehub/datasets/abhikjha/imdb-wiki-faces-dataset/versions/2/imdb_crop/52\n",
            "Checking: /root/.cache/kagglehub/datasets/abhikjha/imdb-wiki-faces-dataset/versions/2/imdb_crop/75\n",
            "Found 5674 images in /root/.cache/kagglehub/datasets/abhikjha/imdb-wiki-faces-dataset/versions/2/imdb_crop/75\n",
            "Checking: /root/.cache/kagglehub/datasets/abhikjha/imdb-wiki-faces-dataset/versions/2/imdb_crop/80\n",
            "Found 4474 images in /root/.cache/kagglehub/datasets/abhikjha/imdb-wiki-faces-dataset/versions/2/imdb_crop/80\n",
            "Checking: /root/.cache/kagglehub/datasets/abhikjha/imdb-wiki-faces-dataset/versions/2/imdb_crop/43\n",
            "Found 4304 images in /root/.cache/kagglehub/datasets/abhikjha/imdb-wiki-faces-dataset/versions/2/imdb_crop/43\n",
            "Checking: /root/.cache/kagglehub/datasets/abhikjha/imdb-wiki-faces-dataset/versions/2/imdb_crop/34\n",
            "Found 5197 images in /root/.cache/kagglehub/datasets/abhikjha/imdb-wiki-faces-dataset/versions/2/imdb_crop/34\n",
            "Checking: /root/.cache/kagglehub/datasets/abhikjha/imdb-wiki-faces-dataset/versions/2/imdb_crop/04\n",
            "Found 4451 images in /root/.cache/kagglehub/datasets/abhikjha/imdb-wiki-faces-dataset/versions/2/imdb_crop/04\n",
            "Checking: /root/.cache/kagglehub/datasets/abhikjha/imdb-wiki-faces-dataset/versions/2/imdb_crop/19\n",
            "Found 3945 images in /root/.cache/kagglehub/datasets/abhikjha/imdb-wiki-faces-dataset/versions/2/imdb_crop/19\n",
            "Checking: /root/.cache/kagglehub/datasets/abhikjha/imdb-wiki-faces-dataset/versions/2/imdb_crop/47\n",
            "Found 3443 images in /root/.cache/kagglehub/datasets/abhikjha/imdb-wiki-faces-dataset/versions/2/imdb_crop/47\n",
            "Checking: /root/.cache/kagglehub/datasets/abhikjha/imdb-wiki-faces-dataset/versions/2/imdb_crop/45\n",
            "Found 5000 images in /root/.cache/kagglehub/datasets/abhikjha/imdb-wiki-faces-dataset/versions/2/imdb_crop/45\n",
            "Checking: /root/.cache/kagglehub/datasets/abhikjha/imdb-wiki-faces-dataset/versions/2/imdb_crop/22\n",
            "Found 4162 images in /root/.cache/kagglehub/datasets/abhikjha/imdb-wiki-faces-dataset/versions/2/imdb_crop/22\n",
            "Checking: /root/.cache/kagglehub/datasets/abhikjha/imdb-wiki-faces-dataset/versions/2/imdb_crop/79\n",
            "Found 4667 images in /root/.cache/kagglehub/datasets/abhikjha/imdb-wiki-faces-dataset/versions/2/imdb_crop/79\n",
            "Checking: /root/.cache/kagglehub/datasets/abhikjha/imdb-wiki-faces-dataset/versions/2/imdb_crop/87\n",
            "Found 4208 images in /root/.cache/kagglehub/datasets/abhikjha/imdb-wiki-faces-dataset/versions/2/imdb_crop/87\n",
            "Checking: /root/.cache/kagglehub/datasets/abhikjha/imdb-wiki-faces-dataset/versions/2/imdb_crop/98\n",
            "Found 5428 images in /root/.cache/kagglehub/datasets/abhikjha/imdb-wiki-faces-dataset/versions/2/imdb_crop/98\n",
            "Checking: /root/.cache/kagglehub/datasets/abhikjha/imdb-wiki-faces-dataset/versions/2/imdb_crop/72\n",
            "Found 4124 images in /root/.cache/kagglehub/datasets/abhikjha/imdb-wiki-faces-dataset/versions/2/imdb_crop/72\n",
            "Checking: /root/.cache/kagglehub/datasets/abhikjha/imdb-wiki-faces-dataset/versions/2/imdb_crop/56\n",
            "Found 4687 images in /root/.cache/kagglehub/datasets/abhikjha/imdb-wiki-faces-dataset/versions/2/imdb_crop/56\n",
            "Checking: /root/.cache/kagglehub/datasets/abhikjha/imdb-wiki-faces-dataset/versions/2/imdb_crop/17\n",
            "Found 4009 images in /root/.cache/kagglehub/datasets/abhikjha/imdb-wiki-faces-dataset/versions/2/imdb_crop/17\n",
            "Checking: /root/.cache/kagglehub/datasets/abhikjha/imdb-wiki-faces-dataset/versions/2/imdb_crop/76\n",
            "Found 5148 images in /root/.cache/kagglehub/datasets/abhikjha/imdb-wiki-faces-dataset/versions/2/imdb_crop/76\n",
            "Checking: /root/.cache/kagglehub/datasets/abhikjha/imdb-wiki-faces-dataset/versions/2/imdb_crop/33\n",
            "Found 3010 images in /root/.cache/kagglehub/datasets/abhikjha/imdb-wiki-faces-dataset/versions/2/imdb_crop/33\n",
            "Checking: /root/.cache/kagglehub/datasets/abhikjha/imdb-wiki-faces-dataset/versions/2/imdb_crop/70\n",
            "Found 4693 images in /root/.cache/kagglehub/datasets/abhikjha/imdb-wiki-faces-dataset/versions/2/imdb_crop/70\n",
            "Checking: /root/.cache/kagglehub/datasets/abhikjha/imdb-wiki-faces-dataset/versions/2/imdb_crop/13\n",
            "Found 5938 images in /root/.cache/kagglehub/datasets/abhikjha/imdb-wiki-faces-dataset/versions/2/imdb_crop/13\n",
            "Checking: /root/.cache/kagglehub/datasets/abhikjha/imdb-wiki-faces-dataset/versions/2/imdb_crop/50\n",
            "Found 4225 images in /root/.cache/kagglehub/datasets/abhikjha/imdb-wiki-faces-dataset/versions/2/imdb_crop/50\n"
          ]
        }
      ],
      "source": [
        "for root, dirs, files in os.walk(path):\n",
        "    print(f\"Checking: {root}\")\n",
        "    valid_images = [f for f in files if f.endswith(('.jpg', '.png', '.jpeg'))]\n",
        "    if valid_images:\n",
        "        print(f\"Found {len(valid_images)} images in {root}\")\n"
      ]
    },
    {
      "cell_type": "code",
      "execution_count": null,
      "metadata": {
        "colab": {
          "base_uri": "https://localhost:8080/"
        },
        "id": "eHhMV57BSKW8",
        "outputId": "f0766258-5fea-4d20-bd35-d035630838a8"
      },
      "outputs": [
        {
          "name": "stdout",
          "output_type": "stream",
          "text": [
            "Filename: imdb_crop\n"
          ]
        }
      ],
      "source": [
        "for filename in os.listdir(path):\n",
        "    print(\"Filename:\", filename)  # Debug output\n"
      ]
    },
    {
      "cell_type": "code",
      "execution_count": null,
      "metadata": {
        "colab": {
          "base_uri": "https://localhost:8080/"
        },
        "id": "13Ewrc-BSKT_",
        "outputId": "8b3eaa74-d994-480b-c0fa-15f04af46343"
      },
      "outputs": [
        {
          "name": "stdout",
          "output_type": "stream",
          "text": [
            "Total images found: 460723\n"
          ]
        }
      ],
      "source": [
        "image_paths = []\n",
        "for root, _, files in os.walk(path):\n",
        "    for file in files:\n",
        "        if file.endswith(('.jpg', '.png', '.jpeg')):\n",
        "            image_paths.append(os.path.join(root, file))\n",
        "print(f\"Total images found: {len(image_paths)}\")\n"
      ]
    },
    {
      "cell_type": "code",
      "execution_count": null,
      "metadata": {
        "colab": {
          "background_save": true,
          "base_uri": "https://localhost:8080/"
        },
        "id": "jpbyL3E1SKRS",
        "outputId": "2cee57a7-af86-4e00-8160-1fcedce61f8a"
      },
      "outputs": [],
      "source": [
        "import numpy as np\n",
        "import os\n",
        "from tqdm import tqdm\n",
        "\n",
        "age_labels = []\n",
        "gender_labels = []\n",
        "\n",
        "for image_path in tqdm(image_paths):\n",
        "    filename = os.path.basename(image_path)  # Extract only filename\n",
        "    temp = filename.split('_')\n",
        "\n",
        "    try:\n",
        "        age = int(temp[0])  # First part is the age\n",
        "        gender = int(temp[1])  # Second part is the gender (0 = Female, 1 = Male)\n",
        "        age_labels.append(age)\n",
        "        gender_labels.append(gender)\n",
        "    except ValueError:\n",
        "        print(f\"Skipping file {filename} due to incorrect format.\")\n",
        "\n",
        "# Convert to NumPy arrays\n",
        "age_labels = np.array(age_labels)\n",
        "gender_labels = np.array(gender_labels)\n",
        "\n",
        "print(f\"Total Valid Samples: {len(age_labels)}\")\n"
      ]
    },
    {
      "cell_type": "code",
      "execution_count": null,
      "metadata": {
        "id": "IEjEBZSwSKOd"
      },
      "outputs": [],
      "source": []
    }
  ],
  "metadata": {
    "colab": {
      "provenance": []
    },
    "kernelspec": {
      "display_name": "Python 3",
      "name": "python3"
    },
    "language_info": {
      "name": "python"
    }
  },
  "nbformat": 4,
  "nbformat_minor": 0
}